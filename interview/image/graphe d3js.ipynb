{
 "metadata": {
  "name": "",
  "signature": "sha256:db1888cf97f7fb54bbba53786a10efdebb434e13e9b8d487a5f09c14ddc5dbd4"
 },
 "nbformat": 3,
 "nbformat_minor": 0,
 "worksheets": [
  {
   "cells": [
    {
     "cell_type": "code",
     "collapsed": false,
     "input": [
      "import numpy as np\n",
      "matrix = np.load('mat.npy')\n",
      "import os\n"
     ],
     "language": "python",
     "metadata": {},
     "outputs": [],
     "prompt_number": 17
    },
    {
     "cell_type": "code",
     "collapsed": false,
     "input": [
      "matrix /= matrix.max()"
     ],
     "language": "python",
     "metadata": {},
     "outputs": [],
     "prompt_number": 18
    },
    {
     "cell_type": "code",
     "collapsed": false,
     "input": [
      "d4ebut= ('<!DOCTYPE html>\\n <meta charset=\"utf-8\">\\n <script src=\"http://d3js.org/d3.v2.js?2.9.1\"></script>\\n <style>\\n \\n .link {\\n fill: none;\\nstroke: #666;\\nstroke-width: 1.5px;\\n}\\n\\n.node circle {\\nfill: #ccc;\\nstroke: #fff;\\nstroke-width: 1.5px;\\n}\\n\\n text {\\nfont: 10px sans-serif;\\npointer-events: none;\\n}\\n\\n</style>\\n<body>\\n<script>\\n')"
     ],
     "language": "python",
     "metadata": {},
     "outputs": [],
     "prompt_number": 19
    },
    {
     "cell_type": "code",
     "collapsed": false,
     "input": [
      "f2in='var width = 1920,\\n    height = 1080;\\nvar color = d3.scale.category20();\\nvar force = d3.layout.force()\\n    .nodes(d3.values(nodes))\\n    .links(links)\\n    .size([width, height])\\n    .linkDistance(1)\\n    .charge(-100)\\n    .on(\"tick\", tick)\\n    .start();\\n\\nvar svg = d3.select(\"body\").append(\"svg\")\\n    .attr(\"width\", width)\\n    .attr(\"height\", height);\\n\\nvar link = svg.selectAll(\".link\")\\n    .data(force.links())\\n  .enter().append(\"line\")\\n    .attr(\"class\", \"link\")\\n    .style(\"stroke-width\", function(d) { return Math.sqrt(0.01*d.value); });\\n\\nvar node = svg.selectAll(\".node\")\\n    .data(force.nodes())\\n  .enter().append(\"g\")\\n    .attr(\"class\", \"node\")\\n    .call(force.drag);\\n\\nnode.append(\"circle\")\\n    .attr(\"r\",5)\\n    .style(\"fill\", function(d) { return color(d.group); });\\n\\n//node.append(\"text\")\\n    // .attr(\"x\", 12)\\n    // .attr(\"dy\", \".35em\")\\n    // .text(function(d) { return d.name; });\\n\\nfunction tick() {\\n  link\\n      .attr(\"x1\", function(d) { return d.source.x; })\\n      .attr(\"y1\", function(d) { return d.source.y; })\\n      .attr(\"x2\", function(d) { return d.target.x; })\\n      .attr(\"y2\", function(d) { return d.target.y; });\\n\\n  node\\n      .attr(\"transform\", function(d) { return \"translate(\" + d.x + \",\" + d.y + \")\"; });\\n}\\n\\n\\n\\n</script>'\n",
      "v2r = 'var nodes = {}; \\n \\n links.forEach(function(link) {\\n  link.source = nodes[link.source] || (nodes[link.source] = {name: link.source, group:2});\\n  link.target = nodes[link.target] || (nodes[link.target] = {name: link.target, group:2});\\n});\\n'"
     ],
     "language": "python",
     "metadata": {},
     "outputs": [],
     "prompt_number": 20
    },
    {
     "cell_type": "code",
     "collapsed": false,
     "input": [
      "debut = '''\n",
      "<!DOCTYPE html>\n",
      " <meta charset=\"utf-8\">\n",
      " <script src=\"http://d3js.org/d3.v2.js?2.9.1\"></script>\n",
      " <style>\n",
      " \n",
      " .link {\n",
      " fill: none;\n",
      "stroke: #666;\n",
      "stroke-width: 1.5px;\n",
      "}\n",
      "\n",
      ".node circle {\n",
      "fill: #ccc;\n",
      "stroke: #fff;\n",
      "stroke-width: 1.5px;\n",
      "}\n",
      "\n",
      " text {\n",
      "font: 10px sans-serif;\n",
      "pointer-events: none;\n",
      "}\n",
      "\n",
      "</style>\n",
      "<body>\n",
      "<script>\n",
      "'''\n",
      "var = '''\n",
      "var nodes = {}; \n",
      " \n",
      " links.forEach(function(link) {\n",
      "  link.source = nodes[link.source] || (nodes[link.source] = {name: link.source, group:2});\n",
      "  link.target = nodes[link.target] || (nodes[link.target] = {name: link.target, group:2});\n",
      "});\n",
      "'''\n",
      "\n",
      "fin = '''\n",
      "var width = 1920,\n",
      "    height = 1080;\n",
      "var color = d3.scale.category20();\n",
      "var force = d3.layout.force()\n",
      "    .nodes(d3.values(nodes))\n",
      "    .links(links)\n",
      "    .size([width, height])\n",
      "    .linkDistance(1)\n",
      "    .charge(-100)\n",
      "    .on(\"tick\", tick)\n",
      "    .start();\n",
      "\n",
      "var svg = d3.select(\"body\").append(\"svg\")\n",
      "    .attr(\"width\", width)\n",
      "    .attr(\"height\", height);\n",
      "\n",
      "var link = svg.selectAll(\".link\")\n",
      "    .data(force.links())\n",
      "  .enter().append(\"line\")\n",
      "    .attr(\"class\", \"link\")\n",
      "    .style(\"stroke-width\", function(d) { return Math.sqrt(0.01*d.value); });\n",
      "\n",
      "var node = svg.selectAll(\".node\")\n",
      "    .data(force.nodes())\n",
      "  .enter().append(\"g\")\n",
      "    .attr(\"class\", \"node\")\n",
      "    .call(force.drag);\n",
      "\n",
      "node.append(\"circle\")\n",
      "    .attr(\"r\",5)\n",
      "    .style(\"fill\", function(d) { return color(d.group); });\n",
      "\n",
      "//node.append(\"text\")\n",
      "    // .attr(\"x\", 12)\n",
      "    // .attr(\"dy\", \".35em\")\n",
      "    // .text(function(d) { return d.name; });\n",
      "\n",
      "function tick() {\n",
      "  link\n",
      "      .attr(\"x1\", function(d) { return d.source.x; })\n",
      "      .attr(\"y1\", function(d) { return d.source.y; })\n",
      "      .attr(\"x2\", function(d) { return d.target.x; })\n",
      "      .attr(\"y2\", function(d) { return d.target.y; });\n",
      "\n",
      "  node\n",
      "      .attr(\"transform\", function(d) { return \"translate(\" + d.x + \",\" + d.y + \")\"; });\n",
      "}\n",
      "\n",
      "\n",
      "\n",
      "</script>\n",
      "'''"
     ],
     "language": "python",
     "metadata": {},
     "outputs": [],
     "prompt_number": 21
    },
    {
     "cell_type": "code",
     "collapsed": false,
     "input": [
      "print(matrix.shape)\n",
      "output_name = 'test.html'\n",
      "threshold = 0.1\n",
      "\n",
      "if os.path.exists(output_name):\n",
      "    os.remove(output_name)\n",
      "with open(output_name, 'a') as output:\n",
      "    \n",
      "    output.write(debut)\n",
      "    output.write('var links = [ \\n')\n",
      "    for i in range(matrix.shape[0]):\n",
      "        for j in range(i):\n",
      "            if matrix[i,j] > threshold:\n",
      "                if i == 999 and j == 998:\n",
      "                    line = '{source: \"%d\", target:\"%d\", type:\"%s\", \"value\":%0.2f}\\n'%(i,j,matrix[i,j])\n",
      "                else:\n",
      "                    line = '{source: \"%d\", target:\"%d\", type:\"%s\", \"value\":%0.2f},\\n'%(i,j,'+',matrix[i,j])\n",
      "                output.write(line)\n",
      "                \n",
      "    output.write('];\\n\\n')\n",
      "    output.write(var)\n",
      "#    output.write('var nodes = [ \\n')\n",
      "#    for i in range(matrix.shape[0]):\n",
      "#        if i == 999:\n",
      "#            line = '{name:\"%d\", group:%d}\\n' % (i,i*1./matrix.shape[0] * 20)\n",
      "#            output.write(line)\n",
      "#        else:\n",
      "#            line = '{name:\"%d\", group:%d},\\n' % (i,i*1./matrix.shape[0] * 20)\n",
      "#            output.write(line)\n",
      "#    output.write('];\\n')\n",
      "    \n",
      "    output.write(fin)"
     ],
     "language": "python",
     "metadata": {},
     "outputs": [
      {
       "output_type": "stream",
       "stream": "stdout",
       "text": [
        "(1000, 1000)\n"
       ]
      }
     ],
     "prompt_number": 22
    },
    {
     "cell_type": "code",
     "collapsed": false,
     "input": [],
     "language": "python",
     "metadata": {},
     "outputs": [],
     "prompt_number": 22
    },
    {
     "cell_type": "code",
     "collapsed": false,
     "input": [],
     "language": "python",
     "metadata": {},
     "outputs": [],
     "prompt_number": 22
    },
    {
     "cell_type": "code",
     "collapsed": false,
     "input": [],
     "language": "python",
     "metadata": {},
     "outputs": [],
     "prompt_number": 22
    },
    {
     "cell_type": "code",
     "collapsed": false,
     "input": [],
     "language": "python",
     "metadata": {},
     "outputs": [],
     "prompt_number": 22
    },
    {
     "cell_type": "code",
     "collapsed": false,
     "input": [],
     "language": "python",
     "metadata": {},
     "outputs": [],
     "prompt_number": 22
    },
    {
     "cell_type": "code",
     "collapsed": false,
     "input": [],
     "language": "python",
     "metadata": {},
     "outputs": []
    }
   ],
   "metadata": {}
  }
 ]
}